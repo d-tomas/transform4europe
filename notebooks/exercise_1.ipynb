{
  "nbformat": 4,
  "nbformat_minor": 0,
  "metadata": {
    "colab": {
      "name": "exercise_1.ipynb",
      "private_outputs": true,
      "provenance": [],
      "collapsed_sections": [],
      "toc_visible": true,
      "authorship_tag": "ABX9TyM5SzgAOlzQb8rmxVPxa4hr",
      "include_colab_link": true
    },
    "kernelspec": {
      "name": "python3",
      "display_name": "Python 3"
    }
  },
  "cells": [
    {
      "cell_type": "markdown",
      "metadata": {
        "id": "view-in-github",
        "colab_type": "text"
      },
      "source": [
        "<a href=\"https://colab.research.google.com/github/d-tomas/transform4europe/blob/main/notebooks/exercise_1.ipynb\" target=\"_parent\"><img src=\"https://colab.research.google.com/assets/colab-badge.svg\" alt=\"Open In Colab\"/></a>"
      ]
    },
    {
      "cell_type": "markdown",
      "metadata": {
        "id": "KbXiowksSNs3"
      },
      "source": [
        "# Exercise 1: Descriptive statistics and visualisation\n"
      ]
    },
    {
      "cell_type": "markdown",
      "metadata": {
        "id": "34RknDhXQ6LI"
      },
      "source": [
        "Let's put into practice the functions we have seen of central tendency, dispersion and visualisation."
      ]
    },
    {
      "cell_type": "code",
      "source": [
        ""
      ],
      "metadata": {
        "id": "1ftLyIrPsrk9"
      },
      "execution_count": null,
      "outputs": []
    },
    {
      "cell_type": "markdown",
      "metadata": {
        "id": "OnvcISE_c97V"
      },
      "source": [
        "## Initial setup"
      ]
    },
    {
      "cell_type": "code",
      "metadata": {
        "id": "ZsKmX-5V49-2"
      },
      "source": [
        "# Import the Python libraries required\n",
        "\n",
        "import matplotlib.pyplot as plt\n",
        "import pandas as pd  # Pandas allows manipulating large tables\n",
        "import seaborn as sns\n",
        "\n",
        "sns.set_style('whitegrid')  # Adds a rather cute background grid in Seaborn\n",
        "\n",
        "# Round the output to two decimal points\n",
        "%precision %.2f"
      ],
      "execution_count": null,
      "outputs": []
    },
    {
      "cell_type": "markdown",
      "metadata": {
        "id": "lySsq8wARNso"
      },
      "source": [
        "We are working with a dataset in CSV format containing statistics on 85,855 films from [IMDB](https://www.imdb.com/).\n",
        "\n",
        "Each row contains the following information:\n",
        "\n",
        "* `imdb_title_id`: IMDb identifier\n",
        "* `title`: movie title\n",
        "* `original_title`: original title (usually matches the `title` field, but not always)\n",
        "* `year`: release year\n",
        "* `date_published`: release date\n",
        "* `genre`: genre\n",
        "* `duration`: duration (in minutes)\n",
        "* `country`: country of the film\n",
        "* `language`: original language\n",
        "* `director`: name of the director\n",
        "* `writer`: name of the screenwriter\n",
        "* `production_company`: name of the production company\n",
        "* `actors`: names of the main actors, separated by commas\n",
        "* `description`: brief description of the storyline\n",
        "* `avg_vote`: users' rating (from 0 to 10)\n",
        "* `votes`: number of votes received\n",
        "* `budget`: budget of the movie\n",
        "* `usa_gross_income`: US box office income\n",
        "* `worldwide_gross_income`: worldwide box office income\n",
        "* `metascore`: critics' score (from 0 to 100)\n",
        "* `reviews_from_users`: number of user reviews\n",
        "* `reviews_from_critics`: number of reviews from critics"
      ]
    },
    {
      "cell_type": "code",
      "metadata": {
        "id": "-vuzvuWIIBE7"
      },
      "source": [
        "# Getting the CSV file with the data\n",
        "\n",
        "!wget https://github.com/d-tomas/transform4europe/raw/main/datasets/imdb.tgz\n",
        "!tar xvfz imdb.tgz\n",
        "!rm imdb.tgz"
      ],
      "execution_count": null,
      "outputs": []
    },
    {
      "cell_type": "code",
      "metadata": {
        "id": "kz4Q-kIkYrBi"
      },
      "source": [
        "# Load data in CSV format\n",
        "\n",
        "data = pd.read_csv('imdb.csv', index_col='imdb_title_id')\n",
        "data"
      ],
      "execution_count": null,
      "outputs": []
    },
    {
      "cell_type": "markdown",
      "metadata": {
        "id": "cC9hGBbEHar1"
      },
      "source": [
        "## Some initial cleaning"
      ]
    },
    {
      "cell_type": "code",
      "metadata": {
        "id": "665p0yIcuD8J"
      },
      "source": [
        "# Let's look at the data types of each column\n",
        "\n",
        "data.info()"
      ],
      "execution_count": null,
      "outputs": []
    },
    {
      "cell_type": "code",
      "metadata": {
        "id": "O7dp8qNmHdwg"
      },
      "source": [
        "# Rename column 'worlwide_gross_income' as 'worldwide_gross_income'\n",
        "data.rename(columns={'worlwide_gross_income': 'worldwide_gross_income'}, inplace=True)\n",
        "\n",
        "# Transform 'year' to numeric type\n",
        "data['year'] = pd.to_numeric(data['year'], errors='coerce')\n",
        "\n",
        "# Transform 'budget' to numeric\n",
        "data['budget'] = pd.to_numeric(data['budget'].str.split(' ').str[-1], errors='coerce')\n",
        "\n",
        "# Transform 'usa_gross_income' to numeric\n",
        "data['usa_gross_income'] = pd.to_numeric(data['usa_gross_income'].str.split(' ').str[-1], errors='coerce')\n",
        "\n",
        "# Transform 'worldwide_gross_income' to numeric\n",
        "data['worldwide_gross_income'] = pd.to_numeric(data['worldwide_gross_income'].str.split(' ').str[-1], errors='coerce')"
      ],
      "execution_count": null,
      "outputs": []
    },
    {
      "cell_type": "markdown",
      "metadata": {
        "id": "o2syHpAbZXfV"
      },
      "source": [
        "## Exercises"
      ]
    },
    {
      "cell_type": "markdown",
      "metadata": {
        "id": "hzVkzuq0gyql"
      },
      "source": [
        "**1.** How long (`duration`) is the shortest film?"
      ]
    },
    {
      "cell_type": "code",
      "metadata": {
        "id": "IK7TfGBvZ7xC"
      },
      "source": [
        ""
      ],
      "execution_count": null,
      "outputs": []
    },
    {
      "cell_type": "markdown",
      "metadata": {
        "id": "UVoMunfMg45F"
      },
      "source": [
        "**2.** What is the title (`title`) of the longest film (`duration`)?"
      ]
    },
    {
      "cell_type": "code",
      "metadata": {
        "id": "R_P1DAikaF-F"
      },
      "source": [
        ""
      ],
      "execution_count": null,
      "outputs": []
    },
    {
      "cell_type": "markdown",
      "metadata": {
        "id": "Sbf2hAf2hDCT"
      },
      "source": [
        "**3.** What is the average critic score (`metascore`) for all films?"
      ]
    },
    {
      "cell_type": "code",
      "metadata": {
        "id": "XdhiCHCRaRnQ"
      },
      "source": [
        ""
      ],
      "execution_count": null,
      "outputs": []
    },
    {
      "cell_type": "markdown",
      "metadata": {
        "id": "imPn0t5mhHUF"
      },
      "source": [
        "**4.** What about the average user rating (`avg_vote`)?"
      ]
    },
    {
      "cell_type": "code",
      "metadata": {
        "id": "GIug2OcHatzF"
      },
      "source": [
        ""
      ],
      "execution_count": null,
      "outputs": []
    },
    {
      "cell_type": "markdown",
      "metadata": {
        "id": "p4lBdOsVhnxU"
      },
      "source": [
        "**5.** What is the interquartile range (IQR) of the user score (`avg_vote`)?"
      ]
    },
    {
      "cell_type": "code",
      "metadata": {
        "id": "7uS-jR6-d-Ot"
      },
      "source": [
        ""
      ],
      "execution_count": null,
      "outputs": []
    },
    {
      "cell_type": "markdown",
      "metadata": {
        "id": "HtOtrtQFhZNy"
      },
      "source": [
        "**6.** How many films have achieved a user rating (`avg_vote`) higher than 9?"
      ]
    },
    {
      "cell_type": "code",
      "metadata": {
        "id": "VVESbUh_b_pA"
      },
      "source": [
        ""
      ],
      "execution_count": null,
      "outputs": []
    },
    {
      "cell_type": "markdown",
      "metadata": {
        "id": "tNwGuw6ihVZg"
      },
      "source": [
        "**7.** Which director (`director`) has directed the most films?"
      ]
    },
    {
      "cell_type": "code",
      "metadata": {
        "id": "XkyYSt61bH39"
      },
      "source": [
        ""
      ],
      "execution_count": null,
      "outputs": []
    },
    {
      "cell_type": "markdown",
      "metadata": {
        "id": "NPeISa-BhvUG"
      },
      "source": [
        "**8.** Which film has the highest user rating (`avg_vote`)?"
      ]
    },
    {
      "cell_type": "code",
      "metadata": {
        "id": "JgCVtKAaa6r-"
      },
      "source": [
        ""
      ],
      "execution_count": null,
      "outputs": []
    },
    {
      "cell_type": "markdown",
      "metadata": {
        "id": "i6HBHIsZqjTC"
      },
      "source": [
        "**9.** What is the standard deviation of the critics' score (`metascore`)?"
      ]
    },
    {
      "cell_type": "code",
      "metadata": {
        "id": "hVYGR0Kaqh76"
      },
      "source": [
        ""
      ],
      "execution_count": null,
      "outputs": []
    },
    {
      "cell_type": "markdown",
      "metadata": {
        "id": "-rPErU_Rqx1N"
      },
      "source": [
        "**10.** What is the standard deviation of the users' score (`avg_vote`)? Multiply by 10 to be on the same scale as the reviewers' score."
      ]
    },
    {
      "cell_type": "code",
      "metadata": {
        "id": "GP4rniIwqxIl"
      },
      "source": [
        ""
      ],
      "execution_count": null,
      "outputs": []
    },
    {
      "cell_type": "markdown",
      "metadata": {
        "id": "00pstGAFtRtH"
      },
      "source": [
        "**11.** How many films are there of each duration?"
      ]
    },
    {
      "cell_type": "code",
      "metadata": {
        "id": "wHS8QDYmtWSF"
      },
      "source": [
        ""
      ],
      "execution_count": null,
      "outputs": []
    },
    {
      "cell_type": "markdown",
      "metadata": {
        "id": "-NnJij6HuQL2"
      },
      "source": [
        "**12.** Show the correlation between number of votes received (`votes`), number of user reviews (`reviews_from_users`), number of critic reviews (`reviews_from_critics`), US income (`usa_gross_income`) and worldwide income (`worldwide_gross_income`)."
      ]
    },
    {
      "cell_type": "code",
      "metadata": {
        "id": "B_aY8PRpuS73"
      },
      "source": [
        ""
      ],
      "execution_count": null,
      "outputs": []
    },
    {
      "cell_type": "markdown",
      "metadata": {
        "id": "ObasQ2E2vLCu"
      },
      "source": [
        "**13.** Show the histograms of the users' score (`avg_vote`) and the critics' score (`metascore`) overlaid on top of each other."
      ]
    },
    {
      "cell_type": "code",
      "metadata": {
        "id": "vPaWZ2GhvWf6"
      },
      "source": [
        ""
      ],
      "execution_count": null,
      "outputs": []
    },
    {
      "cell_type": "markdown",
      "metadata": {
        "id": "ZtHjoaU0y5dr"
      },
      "source": [
        "**14.** Show the correlation between worldwide income (`worldwide_gross_income`) and user ratings (`avg_vote`)."
      ]
    },
    {
      "cell_type": "code",
      "metadata": {
        "id": "sUttWI0cuXbJ"
      },
      "source": [
        ""
      ],
      "execution_count": null,
      "outputs": []
    },
    {
      "cell_type": "markdown",
      "metadata": {
        "id": "8XF_O80aVUuU"
      },
      "source": [
        "# Referencias\n",
        "\n",
        "* [IMDb movies extensive dataset](https://www.kaggle.com/stefanoleone992/imdb-extensive-dataset)"
      ]
    }
  ]
}