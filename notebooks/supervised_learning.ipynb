{
  "nbformat": 4,
  "nbformat_minor": 0,
  "metadata": {
    "colab": {
      "name": "supervised_learning.ipynb",
      "provenance": [],
      "collapsed_sections": [],
      "authorship_tag": "ABX9TyOqOY+RQLpx/fHeEsALJD8w",
      "include_colab_link": true
    },
    "kernelspec": {
      "name": "python3",
      "display_name": "Python 3"
    }
  },
  "cells": [
    {
      "cell_type": "markdown",
      "metadata": {
        "id": "view-in-github",
        "colab_type": "text"
      },
      "source": [
        "<a href=\"https://colab.research.google.com/github/d-tomas/transform4europe/blob/main/notebooks/supervised_learning.ipynb\" target=\"_parent\"><img src=\"https://colab.research.google.com/assets/colab-badge.svg\" alt=\"Open In Colab\"/></a>"
      ]
    },
    {
      "cell_type": "markdown",
      "metadata": {
        "id": "Zb7zwTnwWull"
      },
      "source": [
        "# Supervised learning"
      ]
    },
    {
      "cell_type": "markdown",
      "metadata": {
        "id": "eW_SQE9SWyI2"
      },
      "source": [
        "In this *notebook* we will develop two supervised learning systems: banknote authentication (*classification*) and house price prediction (*regression*)."
      ]
    },
    {
      "cell_type": "markdown",
      "metadata": {
        "id": "NPWkXN6QWhWH"
      },
      "source": [
        "## Initial setup"
      ]
    },
    {
      "cell_type": "code",
      "metadata": {
        "id": "auwEJKn0Xf1a"
      },
      "source": [
        "# Libraries\n",
        "\n",
        "import matplotlib.pyplot as plt  # To make plots\n",
        "import numpy as np  # Obtain unique values in a vector\n",
        "import pandas as pd\n",
        "from sklearn.metrics import accuracy_score  # Calculate the precision of the classifier\n",
        "from sklearn.model_selection import train_test_split  # Split the dataset in train and test\n",
        "from sklearn.metrics import confusion_matrix  # Obtain the confusion matrix\n",
        "from sklearn.metrics import mean_absolute_error  # Mean Absolut Error (MAE) for regression\n",
        "from sklearn.svm import SVC  # Support Vector Machines algorithm\n",
        "from sklearn.tree import DecisionTreeClassifier  # Decission tree algorithm\n",
        "from sklearn.naive_bayes import MultinomialNB  # Naïve Bayes algorithm\n",
        "from sklearn.neural_network import MLPClassifier  # Neural Networks algorithm\n",
        "from sklearn.neighbors import KNeighborsClassifier  # k-NN algorithm\n",
        "from xgboost import XGBRegressor  # XGBoost regression algorithm\n",
        "import seaborn as sns  # Visualización del mapa de calor\n",
        "\n",
        "# Download the dataset to train and test the classification system\n",
        "!wget https://raw.githubusercontent.com/d-tomas/transform4europe/main/datasets/banknote_authentication.csv\n",
        "# Download the dataset to train and test the regression system\n",
        "!wget https://raw.githubusercontent.com/d-tomas/transform4europe/main/datasets/houses.csv"
      ],
      "execution_count": null,
      "outputs": []
    },
    {
      "cell_type": "markdown",
      "metadata": {
        "id": "eNT29Vs8SJBO"
      },
      "source": [
        "## Classification"
      ]
    },
    {
      "cell_type": "markdown",
      "metadata": {
        "id": "o_rlmgBwVMTo"
      },
      "source": [
        "Let's create a classifier to predict whether a given banknote is authentic given a number of measures taken from a photograph.\n",
        "\n",
        "It is a binary (2-class) classification problem. There are 1,372 observations with four input variables (*features*) and one output variable (*class*). The variable names are as follows:\n",
        "\n",
        "* Variance of Wavelet Transformed image (continuous)\n",
        "* Skewness of Wavelet Transformed image (continuous)\n",
        "* Kurtosis of Wavelet Transformed image (continuous)\n",
        "* Entropy of image (continuous)\n",
        "* Class (`0` for authentic, `1` for inauthentic)\n",
        "\n",
        "The number of observations for each class is not balanced: 762 negative (`0`) and 610 positive (`1`) samples."
      ]
    },
    {
      "cell_type": "code",
      "metadata": {
        "id": "Fkcjx1LcWg1h"
      },
      "source": [
        "# Let's see what the training corpus looks like\n",
        "\n",
        "!head banknote_authentication.csv"
      ],
      "execution_count": null,
      "outputs": []
    },
    {
      "cell_type": "code",
      "metadata": {
        "id": "Bg9ZxkG-Vhg-"
      },
      "source": [
        "# Load the data for classification\n",
        "\n",
        "data_classification = pd.read_csv('banknote_authentication.csv')\n",
        "data_classification"
      ],
      "execution_count": null,
      "outputs": []
    },
    {
      "cell_type": "code",
      "metadata": {
        "id": "wyZKgBwgVwrP"
      },
      "source": [
        "# Create the classificer for banknote authenticity prediction\n",
        "\n",
        "y = data_classification['Class']  # Store the class to predict\n",
        "X = data_classification.drop(labels='Class', axis=1)  # Store all the features but the class\n",
        "\n",
        "# Split the dataset into train (80%) and test (20%)\n",
        "X_train, X_test, y_train, y_test = train_test_split(X, y, test_size=0.2, random_state=1)\n",
        "\n",
        "# Use SVM as algorithm for classification\n",
        "model = SVC(kernel = 'linear')\n",
        "\n",
        "# You can try other models! Uncomment what you want to use\n",
        "# model = DecisionTreeClassifier()  # Decission tree\n",
        "# model = KNeighborsClassifier()  # k-NN\n",
        "# model = MLPClassifier()  # Neural network\n",
        "# model = MultinomialNB()  # Naïve Bayes\n",
        "\n",
        "# Train the model\n",
        "model.fit(X_train, y_train)\n",
        "\n",
        "# Do the prediction on the test set\n",
        "predictions = model.predict(X_test)\n",
        "\n",
        "# Calculate the precision of the algorithm\n",
        "print('Precision: {:.2%}\\n'.format(accuracy_score(predictions, y_test)))\n",
        "print('Confusion matrix:')\n",
        "\n",
        "plt.figure(figsize=(8, 6))\n",
        "sns.heatmap(confusion_matrix(y_test, predictions), annot=True, linewidth=3)\n",
        "plt.yticks(rotation=0)\n",
        "plt.show()\n"
      ],
      "execution_count": null,
      "outputs": []
    },
    {
      "cell_type": "code",
      "metadata": {
        "id": "iCqlrje0dA15"
      },
      "source": [
        "# If we want to try the model with a new input\n",
        "\n",
        "new_input = [[-1.37056, -2.87730,\t5.4474, 0.24179\t]]  # New input instance (all features but no class)\n",
        "model.predict(new_input)  # Predict the class for the new input (0 or 1)"
      ],
      "execution_count": null,
      "outputs": []
    },
    {
      "cell_type": "markdown",
      "metadata": {
        "id": "XK1sr5JOVEKe"
      },
      "source": [
        "## Regression"
      ]
    },
    {
      "cell_type": "markdown",
      "metadata": {
        "id": "E6dZiX9bcty6"
      },
      "source": [
        "We are going to build a system for **predicting house prices**. The system is trained on a *dataset* consisting of 1,460 examples of houses, with 80 features for each one and its selling price (class)."
      ]
    },
    {
      "cell_type": "code",
      "metadata": {
        "id": "PHkou6SOhrav"
      },
      "source": [
        "# Load the data for regression\n",
        "\n",
        "data_regression = pd.read_csv('houses.csv')\n",
        "data_regression"
      ],
      "execution_count": null,
      "outputs": []
    },
    {
      "cell_type": "code",
      "metadata": {
        "id": "Bwv_SjnHhwQi"
      },
      "source": [
        "# Show info and data types for each column\n",
        "\n",
        "data_regression.info()"
      ],
      "execution_count": null,
      "outputs": []
    },
    {
      "cell_type": "code",
      "metadata": {
        "id": "wIwMAGBzVIFy"
      },
      "source": [
        "# Build the regression model\n",
        "\n",
        "y = data_regression['SalePrice']  # Class to predict (the price of the houses)\n",
        "X = data_regression.drop(labels='SalePrice', axis=1)  # All the features of each house (but its price)\n",
        "\n",
        "# Categorical variables (those that are not numbers) must be converted into numerical values\n",
        "# Use 'one-hot-encoding' tehcnique\n",
        "X = pd.get_dummies(X)\n",
        "\n",
        "# # Split the dataset into train (80%) and test (20%)\n",
        "X_train, X_test, y_train, y_test = train_test_split(X, y, test_size=0.2, random_state=1)\n",
        "\n",
        "# Create the model tunning some parameters to improve the performance\n",
        "model = XGBRegressor(colsample_bytree=0.6, learning_rate=0.015, max_depth=4, min_child_weight=3, n_estimators=3000, subsample=0.75, random_state=1)\n",
        "model.fit(X_train, y_train)  # Train the model\n",
        "\n",
        "# Predict on the test split\n",
        "predictions = model.predict(X_test)\n",
        "\n",
        "# Calculate the precision of the algorithm (MAE)\n",
        "# The lower this value, the better\n",
        "print(\"MAE: {:,.0f}\".format(mean_absolute_error(predictions, y_test)))"
      ],
      "execution_count": null,
      "outputs": []
    },
    {
      "cell_type": "markdown",
      "metadata": {
        "id": "VaJo_0DlZSIO"
      },
      "source": [
        "# Referencias\n",
        "\n",
        "* [Banknote authentication dataset](https://archive.ics.uci.edu/ml/datasets/banknote+authentication)\n",
        "* [House prices dataset](https://www.kaggle.com/c/house-prices-advanced-regression-techniques)\n"
      ]
    }
  ]
}