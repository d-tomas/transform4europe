{
  "nbformat": 4,
  "nbformat_minor": 0,
  "metadata": {
    "colab": {
      "name": "descriptive_statistics.ipynb",
      "provenance": [],
      "collapsed_sections": [],
      "toc_visible": true,
      "authorship_tag": "ABX9TyNNpbyFub1sJsWIH7E3E+eH",
      "include_colab_link": true
    },
    "kernelspec": {
      "name": "python3",
      "display_name": "Python 3"
    }
  },
  "cells": [
    {
      "cell_type": "markdown",
      "metadata": {
        "id": "view-in-github",
        "colab_type": "text"
      },
      "source": [
        "<a href=\"https://colab.research.google.com/github/d-tomas/transform4europe/blob/main/notebooks/descriptive_statistics.ipynb\" target=\"_parent\"><img src=\"https://colab.research.google.com/assets/colab-badge.svg\" alt=\"Open In Colab\"/></a>"
      ]
    },
    {
      "cell_type": "markdown",
      "metadata": {
        "id": "m4QeCLc5ah2j"
      },
      "source": [
        "# Descriptive statistics"
      ]
    },
    {
      "cell_type": "markdown",
      "metadata": {
        "id": "YFFf2EgJNLQT"
      },
      "source": [
        "In this *notebook* we will review some of the concepts of descriptive statistics: central tendency and dispersion. We will use Python's Pandas library to easily manipulate data tables and obtain these statistics."
      ]
    },
    {
      "cell_type": "markdown",
      "metadata": {
        "id": "OnvcISE_c97V"
      },
      "source": [
        "## Initial setup"
      ]
    },
    {
      "cell_type": "code",
      "metadata": {
        "id": "ZsKmX-5V49-2"
      },
      "source": [
        "# Import the Python libraries used in this notebook\n",
        "\n",
        "import pandas as pd  # Pandas allows to manipulate large tables\n",
        "\n",
        "# Round the output to two decimal points\n",
        "%precision %.2f"
      ],
      "execution_count": null,
      "outputs": []
    },
    {
      "cell_type": "markdown",
      "metadata": {
        "id": "lySsq8wARNso"
      },
      "source": [
        "We are going to work with a dataset in CSV (comma separated values) format containing statistics on historical video game sales. Each row contains the following information:\n",
        "\n",
        "* `Rank`: total sales ranking\n",
        "* `Name`: name of de video game\n",
        "* `Platform`: platform where the game was published (e.g. PC, PS4, ...)\n",
        "* `Year`: year of publication\n",
        "* `Genre`: genre of the game (e.g. action, shooter, sports, ...)\n",
        "* `Publisher`: publishing company\n",
        "* `NA_Sales`: sales in North America (in millions of copies)\n",
        "* `EU_Sales`: sales in Europe (in millions of copies)\n",
        "* `JP_Sales`: sales in Japan (in millions of copies)\n",
        "* `Other_Sales`: sales in the rest of the world (in millions of copies)\n",
        "* `Global_Sales`: global sales wordlwide (in millions of copies)"
      ]
    },
    {
      "cell_type": "code",
      "metadata": {
        "id": "ANO78ZDJcFUP"
      },
      "source": [
        "# Load the data in a Pandas DataFrame\n",
        "# The file is in CSV format\n",
        "\n",
        "data = pd.read_csv('https://raw.githubusercontent.com/d-tomas/transform4europe/main/datasets/video_game_sales.csv')\n",
        "data  # Entering the name of the variable displays its content on the screen"
      ],
      "execution_count": null,
      "outputs": []
    },
    {
      "cell_type": "markdown",
      "metadata": {
        "id": "WDUvCjwuVk-U"
      },
      "source": [
        "## Central tendency"
      ]
    },
    {
      "cell_type": "code",
      "metadata": {
        "id": "rGxvqvfUp3S3"
      },
      "source": [
        "# How many games are there for each platform\n",
        "\n",
        "data['Platform'].value_counts()"
      ],
      "execution_count": null,
      "outputs": []
    },
    {
      "cell_type": "code",
      "metadata": {
        "id": "_bdL__a8dK0m"
      },
      "source": [
        "# Average number of copies of video games sold worldwide\n",
        "\n",
        "data['Global_Sales'].mean() * 1000000  # Multiply by 1 million"
      ],
      "execution_count": null,
      "outputs": []
    },
    {
      "cell_type": "code",
      "metadata": {
        "id": "UnbvM2aTdPTh"
      },
      "source": [
        "# Median number of video game copies sold worldwide\n",
        "# If we sort the list of values, the 'median' is the value right in the middle\n",
        "\n",
        "data['Global_Sales'].median() * 1000000"
      ],
      "execution_count": null,
      "outputs": []
    },
    {
      "cell_type": "code",
      "metadata": {
        "id": "utETQPaajX8f"
      },
      "source": [
        "# Mode of video game copies sold worldwide\n",
        "# 'Mode' is the most repeated value\n",
        "\n",
        "data['Global_Sales'].mode() * 1000000"
      ],
      "execution_count": null,
      "outputs": []
    },
    {
      "cell_type": "markdown",
      "metadata": {
        "id": "WA9jrsu2dZ6i"
      },
      "source": [
        "## Dispersion"
      ]
    },
    {
      "cell_type": "code",
      "metadata": {
        "id": "mD5sdBCNW0tn"
      },
      "source": [
        "# Minimum value of each column\n",
        "\n",
        "data.min()"
      ],
      "execution_count": null,
      "outputs": []
    },
    {
      "cell_type": "code",
      "metadata": {
        "id": "Cp6cAFaUW-Tq"
      },
      "source": [
        "# Game with less global sales\n",
        "# With 'argmin' we can get the index where the minimum value of a column is\n",
        "\n",
        "data.iloc[data['Global_Sales'].argmin()]  # 'iloc' locates an element by its index"
      ],
      "execution_count": null,
      "outputs": []
    },
    {
      "cell_type": "code",
      "metadata": {
        "id": "_Zaw_kBpW5V0"
      },
      "source": [
        "# Maximum value of each column\n",
        "\n",
        "data.max()"
      ],
      "execution_count": null,
      "outputs": []
    },
    {
      "cell_type": "code",
      "metadata": {
        "id": "4z9rXNh4Xsbi"
      },
      "source": [
        "# Best-selling game in Europe\n",
        "# With 'argmax' we can get the index where the maximum value of each column is\n",
        "\n",
        "data.iloc[data['EU_Sales'].argmax()]"
      ],
      "execution_count": null,
      "outputs": []
    },
    {
      "cell_type": "code",
      "metadata": {
        "id": "vlLcqNd3IzSB"
      },
      "source": [
        "# Interquartile range (IQR) of wordlwide sales\n",
        "# Indicates the 'distance' between the 50% of samples that occupy the centre of the distribution\n",
        "# We remove the 25% with the least sales (Q1) and the 25% with the most sales (Q4)\n",
        "\n",
        "(data['Global_Sales'].quantile(0.75) - data['Global_Sales'].quantile(0.25)) * 1000000"
      ],
      "execution_count": null,
      "outputs": []
    },
    {
      "cell_type": "code",
      "metadata": {
        "id": "o_9WweowekuJ"
      },
      "source": [
        "# Standar deviation of all columns\n",
        "\n",
        "data.std()"
      ],
      "execution_count": null,
      "outputs": []
    },
    {
      "cell_type": "markdown",
      "metadata": {
        "id": "0MWhC6_75jNf"
      },
      "source": [
        "# References\n",
        "\n",
        "* [Video Game Sales](https://www.kaggle.com/gregorut/videogamesales)"
      ]
    }
  ]
}