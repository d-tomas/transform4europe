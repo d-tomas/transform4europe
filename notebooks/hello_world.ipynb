{
  "nbformat": 4,
  "nbformat_minor": 0,
  "metadata": {
    "colab": {
      "name": "hello_world.ipynb",
      "provenance": [],
      "collapsed_sections": [],
      "authorship_tag": "ABX9TyO76Qs89jEEq/MVU1HRIPwf",
      "include_colab_link": true
    },
    "kernelspec": {
      "name": "python3",
      "display_name": "Python 3"
    }
  },
  "cells": [
    {
      "cell_type": "markdown",
      "metadata": {
        "id": "view-in-github",
        "colab_type": "text"
      },
      "source": [
        "<a href=\"https://colab.research.google.com/github/d-tomas/transform4europe/blob/main/notebooks/hello_world.ipynb\" target=\"_parent\"><img src=\"https://colab.research.google.com/assets/colab-badge.svg\" alt=\"Open In Colab\"/></a>"
      ]
    },
    {
      "cell_type": "markdown",
      "metadata": {
        "id": "-rlAdkuBWRoQ"
      },
      "source": [
        "# Hello, world!"
      ]
    },
    {
      "cell_type": "markdown",
      "metadata": {
        "id": "A-GtbomGAY9l"
      },
      "source": [
        "This *notebook* shows an introduction to the basic concepts of Gooble Colab.\n",
        "\n",
        "A notebook is a list of cells. Cells contain either *explanatory text* (like this one) or *executable code* and its output (click a cell to select it):\n",
        "\n",
        "* Text cells allow you to add notes and document your code. They follow the *Markdown* format (very simple)\n",
        "* Code cells allow running Python code on the remote server\n",
        "\n",
        "Click `Connect` in the upper right corner to get a remote server to run your code. To run code, simply click on the `Run cell` button that appears to the left of the code cell when you hover your mouse over it (that gray circle that looks like the *play* button)."
      ]
    },
    {
      "cell_type": "code",
      "metadata": {
        "id": "lnEezsdmAU9g"
      },
      "source": [
        "# This is a code cell in Python\n",
        "# Let's go for that hello world\n",
        "\n",
        "print('Hello, world!')"
      ],
      "execution_count": null,
      "outputs": []
    },
    {
      "cell_type": "markdown",
      "metadata": {
        "id": "mYXste_ugRlj"
      },
      "source": [
        "## Interacting with the *shell*"
      ]
    },
    {
      "cell_type": "markdown",
      "metadata": {
        "id": "-wVVsOd4CtDr"
      },
      "source": [
        "We can run commands on the remote server as if we were opening a command line terminal on it. The servers work with Linux system. To execute these commands, in the code cells we must put the exclamation mark (`!`) and after it the command we want to run."
      ]
    },
    {
      "cell_type": "code",
      "metadata": {
        "id": "yJH_KoOfgpdW"
      },
      "source": [
        "# 'uname' shows information about the operating system installed in the remote server\n",
        "\n",
        "!uname -a"
      ],
      "execution_count": null,
      "outputs": []
    },
    {
      "cell_type": "code",
      "metadata": {
        "id": "UkR8_qMsnqQW"
      },
      "source": [
        "# Another example: let's check the Python version installed in the remote server\n",
        "\n",
        "!python --version"
      ],
      "execution_count": null,
      "outputs": []
    },
    {
      "cell_type": "code",
      "metadata": {
        "id": "Inuf-nOynulF"
      },
      "source": [
        "# Very interesting: it is possible to install Python libraries in the remote server\n",
        "# The command 'pip' is the most easy to use to install libraries in Python\n",
        "\n",
        "!pip install python-Levenshtein  # Install the python-Levenshtein library"
      ],
      "execution_count": null,
      "outputs": []
    },
    {
      "cell_type": "markdown",
      "metadata": {
        "id": "w9cqpvxk1QBZ"
      },
      "source": [
        "## File access"
      ]
    },
    {
      "cell_type": "markdown",
      "metadata": {
        "id": "x-6-gEkvD3ym"
      },
      "source": [
        "We can upload and download files from the remote server assigned to us by Colab during the work session.\n",
        "\n",
        "**Problem**: when we disconnect from the server, everything on the server is lost. The next time we connect, we will be assigned to a different server, where there will be nothing from the previous session (not even the libraries we had installed).\n",
        "\n",
        "Fortunately, we can download files from the server we want to keep and then upload them back to the new server. Better yet, we can connect the remote server to our **Google Drive**, so that we have the data we want to work with in a Drive folder so that it is not lost at the end of the working session."
      ]
    },
    {
      "cell_type": "markdown",
      "metadata": {
        "id": "nyCz9v8ks_f8"
      },
      "source": [
        "### Drive"
      ]
    },
    {
      "cell_type": "code",
      "metadata": {
        "id": "dEgRVoR5s0rF"
      },
      "source": [
        "# Let's connect to Drive. It will ask you for permission to access your account. Say yes, with confidence\n",
        "# This can also be done with the 'Mount Drive' button in the file tab\n",
        "# Be careful if you delete files from Drive in Colab, they get deleted for real!!\n",
        "\n",
        "from google.colab import drive  # Python library to work with Drive from Colab\n",
        "\n",
        "drive.mount('./drive')  # A folder named 'drive' is created in the server, containing the files stored in our Drive (everything)"
      ],
      "execution_count": null,
      "outputs": []
    },
    {
      "cell_type": "markdown",
      "metadata": {
        "id": "fy6yC3fl1V5A"
      },
      "source": [
        "### Web"
      ]
    },
    {
      "cell_type": "code",
      "metadata": {
        "id": "f9YMzhKB1YqP"
      },
      "source": [
        "# We can use 'wget' from the command line to download files in the server from a URL\n",
        "\n",
        "!wget https://web.ua.es/secciones-ua/images/layout/logo-ua.jpg"
      ],
      "execution_count": null,
      "outputs": []
    },
    {
      "cell_type": "markdown",
      "metadata": {
        "id": "uozvWe0n1Y-f"
      },
      "source": [
        "### Local file\n"
      ]
    },
    {
      "cell_type": "code",
      "metadata": {
        "id": "O1jjE_Z7phm9"
      },
      "source": [
        "# The library to manage files in Colab must be installed to manipulate the files in our computer \n",
        "\n",
        "from google.colab import files"
      ],
      "execution_count": null,
      "outputs": []
    },
    {
      "cell_type": "code",
      "metadata": {
        "id": "TDdXRXXoeH5I"
      },
      "source": [
        "# We can upload to the remote server a file that is on our computer\n",
        "# We can also use the 'Upload files' button in the files tab\n",
        "\n",
        "files.upload()"
      ],
      "execution_count": null,
      "outputs": []
    },
    {
      "cell_type": "code",
      "metadata": {
        "id": "JZUSyIgCp4bx"
      },
      "source": [
        "# We can download a file that is on the remote server to our computer\n",
        "# We can also select 'Download' in the files tab\n",
        "\n",
        "files.download('logo-ua.jpg')"
      ],
      "execution_count": null,
      "outputs": []
    },
    {
      "cell_type": "markdown",
      "metadata": {
        "id": "tOdTPUoYq6M8"
      },
      "source": [
        "## Magics"
      ]
    },
    {
      "cell_type": "markdown",
      "metadata": {
        "id": "E3-tmmWQXwzg"
      },
      "source": [
        "*Magics* are a sert of special instructions that make life easier when working in Colab. Some of these commands act at the line level and are invoked using a percent sign (`%`) as a prefix. Other commands act at block level and are invoked using a double percent sign (`%%`) as a prefix. If you want to know all available magics you can use `%lsmagic`.\n"
      ]
    },
    {
      "cell_type": "code",
      "metadata": {
        "id": "nNObhiafd9l7"
      },
      "source": [
        "# Show all the magics available\n",
        "\n",
        "%lsmagic"
      ],
      "execution_count": null,
      "outputs": []
    },
    {
      "cell_type": "markdown",
      "metadata": {
        "id": "tAC71pBSdOYP"
      },
      "source": [
        "### Cell magics"
      ]
    },
    {
      "cell_type": "code",
      "metadata": {
        "id": "Fe_PDFaofvnG"
      },
      "source": [
        "# Write the content of the cell in a file named 'countdown.py'\n",
        "\n",
        "%%writefile countdown.py\n",
        "for i in range(10, -1, -1):\n",
        "  print(i)"
      ],
      "execution_count": null,
      "outputs": []
    },
    {
      "cell_type": "code",
      "metadata": {
        "id": "w8928wFmehQ4"
      },
      "source": [
        "# Calculate the time spent running a cell. There is also a line magic option '%timeit'\n",
        "# Runs the given code many times, then returns the speed of the fastest result\n",
        "\n",
        "%%timeit\n",
        "for i in range(1, 5000000):\n",
        "  i**2"
      ],
      "execution_count": null,
      "outputs": []
    },
    {
      "cell_type": "code",
      "metadata": {
        "id": "wVQAT_LDsyWs"
      },
      "source": [
        "# We can insert HTML in code cells with '%%html':\n",
        "\n",
        "%%html\n",
        "<iframe width=\"560\" height=\"315\" src=\"https://www.youtube.com/embed/1A-Nf3QIJjM\" frameborder=\"0\" allow=\"accelerometer; autoplay; clipboard-write; encrypted-media; gyroscope; picture-in-picture\" allowfullscreen></iframe>\n"
      ],
      "execution_count": null,
      "outputs": []
    },
    {
      "cell_type": "markdown",
      "metadata": {
        "id": "Dd3Jd1HkdCbf"
      },
      "source": [
        "### Line magics"
      ]
    },
    {
      "cell_type": "code",
      "metadata": {
        "id": "loH7N6-Hh0BX"
      },
      "source": [
        "# Run a code file\n",
        "\n",
        "%run countdown.py"
      ],
      "execution_count": null,
      "outputs": []
    },
    {
      "cell_type": "code",
      "metadata": {
        "id": "mR8t8dfLdyZq"
      },
      "source": [
        "# Show all the environment variables\n",
        "\n",
        "%env"
      ],
      "execution_count": null,
      "outputs": []
    },
    {
      "cell_type": "code",
      "metadata": {
        "id": "IczvdiGcfOoj"
      },
      "source": [
        "# Show all the interactive variables of the notebook\n",
        "\n",
        "a = 34\n",
        "b = 'hola'\n",
        "c = [3,4,6]\n",
        "\n",
        "%whos"
      ],
      "execution_count": null,
      "outputs": []
    },
    {
      "cell_type": "markdown",
      "metadata": {
        "id": "Br0v3FZ-qGMa"
      },
      "source": [
        "# References\n",
        "\n",
        "* [What is Colaboratory?](https://colab.research.google.com/notebooks/intro.ipynb)\n",
        "* [Magics](https://colab.research.google.com/github/jakevdp/PythonDataScienceHandbook/blob/master/notebooks/01.03-Magic-Commands.ipynb)\n"
      ]
    }
  ]
}